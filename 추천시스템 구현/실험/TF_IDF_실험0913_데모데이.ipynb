{
  "nbformat": 4,
  "nbformat_minor": 0,
  "metadata": {
    "colab": {
      "name": "TF-IDF 실험0913_데모데이.ipynb",
      "provenance": [],
      "collapsed_sections": [],
      "authorship_tag": "ABX9TyNLdroPJUAF9TORN3WofbBy",
      "include_colab_link": true
    },
    "kernelspec": {
      "name": "python3",
      "display_name": "Python 3"
    },
    "language_info": {
      "name": "python"
    },
    "accelerator": "GPU"
  },
  "cells": [
    {
      "cell_type": "markdown",
      "metadata": {
        "id": "view-in-github",
        "colab_type": "text"
      },
      "source": [
        "<a href=\"https://colab.research.google.com/github/e9anna/book_algorithm/blob/main/%EC%B6%94%EC%B2%9C%EC%8B%9C%EC%8A%A4%ED%85%9C%20%EA%B5%AC%ED%98%84/%EC%8B%A4%ED%97%98/TF_IDF_%EC%8B%A4%ED%97%980913_%EB%8D%B0%EB%AA%A8%EB%8D%B0%EC%9D%B4.ipynb\" target=\"_parent\"><img src=\"https://colab.research.google.com/assets/colab-badge.svg\" alt=\"Open In Colab\"/></a>"
      ]
    },
    {
      "cell_type": "markdown",
      "metadata": {
        "id": "2pw5BbtM8OG_"
      },
      "source": [
        "# 9/13일자 초안 코드\n",
        "\n",
        "- 수정자: 조은정"
      ]
    },
    {
      "cell_type": "markdown",
      "metadata": {
        "id": "uAmUqLbytUpI"
      },
      "source": [
        "# 필요한 라이브러리"
      ]
    },
    {
      "cell_type": "code",
      "metadata": {
        "id": "eLL5g69EtCAh"
      },
      "source": [
        "import pandas as pd\n",
        "import numpy as np\n",
        "import matplotlib.font_manager as fm\n",
        "import matplotlib.pyplot as plt\n",
        "from future.utils import iteritems\n",
        "from collections import Counter\n",
        "from sklearn.manifold import TSNE\n",
        "from sklearn.feature_extraction.text import TfidfVectorizer\n",
        "from sklearn.feature_extraction.text import CountVectorizer"
      ],
      "execution_count": 1,
      "outputs": []
    },
    {
      "cell_type": "markdown",
      "metadata": {
        "id": "RZFpTV9FtaVL"
      },
      "source": [
        "# 데이터"
      ]
    },
    {
      "cell_type": "code",
      "metadata": {
        "colab": {
          "base_uri": "https://localhost:8080/",
          "height": 141
        },
        "id": "lNjBjZSjtbPg",
        "outputId": "faaabb1b-d539-4fdb-f42b-167299783007"
      },
      "source": [
        "docu = pd.read_csv('/content/tf실험.csv', encoding='utf-8')\n",
        "docu.head()"
      ],
      "execution_count": 2,
      "outputs": [
        {
          "output_type": "execute_result",
          "data": {
            "text/html": [
              "<div>\n",
              "<style scoped>\n",
              "    .dataframe tbody tr th:only-of-type {\n",
              "        vertical-align: middle;\n",
              "    }\n",
              "\n",
              "    .dataframe tbody tr th {\n",
              "        vertical-align: top;\n",
              "    }\n",
              "\n",
              "    .dataframe thead th {\n",
              "        text-align: right;\n",
              "    }\n",
              "</style>\n",
              "<table border=\"1\" class=\"dataframe\">\n",
              "  <thead>\n",
              "    <tr style=\"text-align: right;\">\n",
              "      <th></th>\n",
              "      <th>제목</th>\n",
              "      <th>작가</th>\n",
              "      <th>책소개</th>\n",
              "    </tr>\n",
              "  </thead>\n",
              "  <tbody>\n",
              "    <tr>\n",
              "      <th>0</th>\n",
              "      <td>개미</td>\n",
              "      <td>베르나르 베르베르</td>\n",
              "      <td>베르나르 베르베르의 장편소설 [개미] 시리즈. 저자는 기상천외한 개미의 세계를 개미...</td>\n",
              "    </tr>\n",
              "    <tr>\n",
              "      <th>1</th>\n",
              "      <td>관계의 힘</td>\n",
              "      <td>레이먼즈 조</td>\n",
              "      <td>진정한 성공과 행복으로 이끄는 인간관계의 힘 “대한민국 직장인들이 직장생활에서 가장...</td>\n",
              "    </tr>\n",
              "    <tr>\n",
              "      <th>2</th>\n",
              "      <td>이기적 유전자</td>\n",
              "      <td>리처드 도킨스</td>\n",
              "      <td>세계적 베스트셀러, 과학을 넘어선 우리 시대의 고전, 『이기적 유전자』의 40주년 ...</td>\n",
              "    </tr>\n",
              "  </tbody>\n",
              "</table>\n",
              "</div>"
            ],
            "text/plain": [
              "        제목         작가                                                책소개\n",
              "0       개미  베르나르 베르베르  베르나르 베르베르의 장편소설 [개미] 시리즈. 저자는 기상천외한 개미의 세계를 개미...\n",
              "1    관계의 힘     레이먼즈 조  진정한 성공과 행복으로 이끄는 인간관계의 힘 “대한민국 직장인들이 직장생활에서 가장...\n",
              "2  이기적 유전자    리처드 도킨스  세계적 베스트셀러, 과학을 넘어선 우리 시대의 고전, 『이기적 유전자』의 40주년 ..."
            ]
          },
          "metadata": {},
          "execution_count": 2
        }
      ]
    },
    {
      "cell_type": "markdown",
      "metadata": {
        "id": "HaJtz5wUesVs"
      },
      "source": [
        "df = open('/content/개미.txt', 'r', encoding='utf-8')\n",
        "text = df.read()"
      ]
    },
    {
      "cell_type": "markdown",
      "metadata": {
        "id": "O7FRM_ylTNPz"
      },
      "source": [
        "# 데이터 클렌징\n",
        "\n",
        "1) konlpy 와 사이킷런( sklearn)의 TfidfVectorizer 라이브러리로 \n",
        "- 책 소개에 있는 글자 외의 다른 기호 등 제거\n",
        "- 명사만 추출하기\n",
        "\n",
        "\n",
        "2) 추출한 명사를 열4 (명사)에 추가"
      ]
    },
    {
      "cell_type": "code",
      "metadata": {
        "colab": {
          "base_uri": "https://localhost:8080/"
        },
        "id": "_YgKuB1Ed1wp",
        "outputId": "e0fafeb7-001f-42e3-f165-257deeaa33a1"
      },
      "source": [
        "!pip install konlpy"
      ],
      "execution_count": 3,
      "outputs": [
        {
          "output_type": "stream",
          "name": "stdout",
          "text": [
            "Requirement already satisfied: konlpy in /usr/local/lib/python3.7/dist-packages (0.5.2)\n",
            "Requirement already satisfied: JPype1>=0.7.0 in /usr/local/lib/python3.7/dist-packages (from konlpy) (1.3.0)\n",
            "Requirement already satisfied: lxml>=4.1.0 in /usr/local/lib/python3.7/dist-packages (from konlpy) (4.2.6)\n",
            "Requirement already satisfied: colorama in /usr/local/lib/python3.7/dist-packages (from konlpy) (0.4.4)\n",
            "Requirement already satisfied: tweepy>=3.7.0 in /usr/local/lib/python3.7/dist-packages (from konlpy) (3.10.0)\n",
            "Requirement already satisfied: beautifulsoup4==4.6.0 in /usr/local/lib/python3.7/dist-packages (from konlpy) (4.6.0)\n",
            "Requirement already satisfied: numpy>=1.6 in /usr/local/lib/python3.7/dist-packages (from konlpy) (1.19.5)\n",
            "Requirement already satisfied: typing-extensions in /usr/local/lib/python3.7/dist-packages (from JPype1>=0.7.0->konlpy) (3.7.4.3)\n",
            "Requirement already satisfied: six>=1.10.0 in /usr/local/lib/python3.7/dist-packages (from tweepy>=3.7.0->konlpy) (1.15.0)\n",
            "Requirement already satisfied: requests-oauthlib>=0.7.0 in /usr/local/lib/python3.7/dist-packages (from tweepy>=3.7.0->konlpy) (1.3.0)\n",
            "Requirement already satisfied: requests[socks]>=2.11.1 in /usr/local/lib/python3.7/dist-packages (from tweepy>=3.7.0->konlpy) (2.23.0)\n",
            "Requirement already satisfied: oauthlib>=3.0.0 in /usr/local/lib/python3.7/dist-packages (from requests-oauthlib>=0.7.0->tweepy>=3.7.0->konlpy) (3.1.1)\n",
            "Requirement already satisfied: chardet<4,>=3.0.2 in /usr/local/lib/python3.7/dist-packages (from requests[socks]>=2.11.1->tweepy>=3.7.0->konlpy) (3.0.4)\n",
            "Requirement already satisfied: idna<3,>=2.5 in /usr/local/lib/python3.7/dist-packages (from requests[socks]>=2.11.1->tweepy>=3.7.0->konlpy) (2.10)\n",
            "Requirement already satisfied: certifi>=2017.4.17 in /usr/local/lib/python3.7/dist-packages (from requests[socks]>=2.11.1->tweepy>=3.7.0->konlpy) (2021.5.30)\n",
            "Requirement already satisfied: urllib3!=1.25.0,!=1.25.1,<1.26,>=1.21.1 in /usr/local/lib/python3.7/dist-packages (from requests[socks]>=2.11.1->tweepy>=3.7.0->konlpy) (1.24.3)\n",
            "Requirement already satisfied: PySocks!=1.5.7,>=1.5.6 in /usr/local/lib/python3.7/dist-packages (from requests[socks]>=2.11.1->tweepy>=3.7.0->konlpy) (1.7.1)\n"
          ]
        }
      ]
    },
    {
      "cell_type": "code",
      "metadata": {
        "id": "Ca5WTMQIdF8d"
      },
      "source": [
        "# 1) 필요한 라이브러리\n",
        "from konlpy.tag import Okt\n",
        "from collections import Counter "
      ],
      "execution_count": 4,
      "outputs": []
    },
    {
      "cell_type": "code",
      "metadata": {
        "colab": {
          "base_uri": "https://localhost:8080/",
          "height": 191
        },
        "id": "09Pm57EdrZJf",
        "outputId": "4afd3096-7d81-4276-e4ca-489381be51ed"
      },
      "source": [
        "def get_keywords(origin):\n",
        "  origin_text = origin['책소개'].values.tolist() \n",
        "  noun_list = [] # 비어있는 리스트 하나 소환\n",
        "  for i in range(len(origin_text)):\n",
        "    okt = Okt()\n",
        "    noun1 = okt.nouns(origin_text[i]) # 1) 책 소개에서 명사만 추출하게 okt 라이브러리 사용\n",
        "    noun_list.append(noun1) # 비어있는 리스트에 명사추출한거 붙여넣기\n",
        "  df = pd.DataFrame(origin, columns=['제목', '작가', '책소개']) # df라는 새로운 데이터프레임 만들기\n",
        "  df.insert(3,'명사추출',noun_list, True)  # 2) 추출한 명사를 4번째 열에 추가\n",
        "  return df\n",
        "\n",
        "get_keywords(docu) # 파라미터 자리에 위에서 불러온 csv파일 이름 적기"
      ],
      "execution_count": 5,
      "outputs": [
        {
          "output_type": "execute_result",
          "data": {
            "text/html": [
              "<div>\n",
              "<style scoped>\n",
              "    .dataframe tbody tr th:only-of-type {\n",
              "        vertical-align: middle;\n",
              "    }\n",
              "\n",
              "    .dataframe tbody tr th {\n",
              "        vertical-align: top;\n",
              "    }\n",
              "\n",
              "    .dataframe thead th {\n",
              "        text-align: right;\n",
              "    }\n",
              "</style>\n",
              "<table border=\"1\" class=\"dataframe\">\n",
              "  <thead>\n",
              "    <tr style=\"text-align: right;\">\n",
              "      <th></th>\n",
              "      <th>제목</th>\n",
              "      <th>작가</th>\n",
              "      <th>책소개</th>\n",
              "      <th>명사추출</th>\n",
              "    </tr>\n",
              "  </thead>\n",
              "  <tbody>\n",
              "    <tr>\n",
              "      <th>0</th>\n",
              "      <td>개미</td>\n",
              "      <td>베르나르 베르베르</td>\n",
              "      <td>베르나르 베르베르의 장편소설 [개미] 시리즈. 저자는 기상천외한 개미의 세계를 개미...</td>\n",
              "      <td>[베르나르, 베르베르, 장편소설, 개미, 시리즈, 저자, 기상, 외한, 개미, 세계...</td>\n",
              "    </tr>\n",
              "    <tr>\n",
              "      <th>1</th>\n",
              "      <td>관계의 힘</td>\n",
              "      <td>레이먼즈 조</td>\n",
              "      <td>진정한 성공과 행복으로 이끄는 인간관계의 힘 “대한민국 직장인들이 직장생활에서 가장...</td>\n",
              "      <td>[성공, 행복, 인간관계, 힘, 대한민국, 직장인, 직장, 생활, 가장, 것, 일,...</td>\n",
              "    </tr>\n",
              "    <tr>\n",
              "      <th>2</th>\n",
              "      <td>이기적 유전자</td>\n",
              "      <td>리처드 도킨스</td>\n",
              "      <td>세계적 베스트셀러, 과학을 넘어선 우리 시대의 고전, 『이기적 유전자』의 40주년 ...</td>\n",
              "      <td>[세계, 베스트셀러, 과학, 우리, 시대, 고전, 이기, 유전자, 의, 주년, 기념...</td>\n",
              "    </tr>\n",
              "  </tbody>\n",
              "</table>\n",
              "</div>"
            ],
            "text/plain": [
              "        제목  ...                                               명사추출\n",
              "0       개미  ...  [베르나르, 베르베르, 장편소설, 개미, 시리즈, 저자, 기상, 외한, 개미, 세계...\n",
              "1    관계의 힘  ...  [성공, 행복, 인간관계, 힘, 대한민국, 직장인, 직장, 생활, 가장, 것, 일,...\n",
              "2  이기적 유전자  ...  [세계, 베스트셀러, 과학, 우리, 시대, 고전, 이기, 유전자, 의, 주년, 기념...\n",
              "\n",
              "[3 rows x 4 columns]"
            ]
          },
          "metadata": {},
          "execution_count": 5
        }
      ]
    },
    {
      "cell_type": "code",
      "metadata": {
        "colab": {
          "base_uri": "https://localhost:8080/",
          "height": 191
        },
        "id": "IL-7SqW8ysWU",
        "outputId": "5ad473b9-e5c5-41a8-cb15-56debf1f302a"
      },
      "source": [
        "docu2 = get_keywords(docu)\n",
        "docu2.head()"
      ],
      "execution_count": 6,
      "outputs": [
        {
          "output_type": "execute_result",
          "data": {
            "text/html": [
              "<div>\n",
              "<style scoped>\n",
              "    .dataframe tbody tr th:only-of-type {\n",
              "        vertical-align: middle;\n",
              "    }\n",
              "\n",
              "    .dataframe tbody tr th {\n",
              "        vertical-align: top;\n",
              "    }\n",
              "\n",
              "    .dataframe thead th {\n",
              "        text-align: right;\n",
              "    }\n",
              "</style>\n",
              "<table border=\"1\" class=\"dataframe\">\n",
              "  <thead>\n",
              "    <tr style=\"text-align: right;\">\n",
              "      <th></th>\n",
              "      <th>제목</th>\n",
              "      <th>작가</th>\n",
              "      <th>책소개</th>\n",
              "      <th>명사추출</th>\n",
              "    </tr>\n",
              "  </thead>\n",
              "  <tbody>\n",
              "    <tr>\n",
              "      <th>0</th>\n",
              "      <td>개미</td>\n",
              "      <td>베르나르 베르베르</td>\n",
              "      <td>베르나르 베르베르의 장편소설 [개미] 시리즈. 저자는 기상천외한 개미의 세계를 개미...</td>\n",
              "      <td>[베르나르, 베르베르, 장편소설, 개미, 시리즈, 저자, 기상, 외한, 개미, 세계...</td>\n",
              "    </tr>\n",
              "    <tr>\n",
              "      <th>1</th>\n",
              "      <td>관계의 힘</td>\n",
              "      <td>레이먼즈 조</td>\n",
              "      <td>진정한 성공과 행복으로 이끄는 인간관계의 힘 “대한민국 직장인들이 직장생활에서 가장...</td>\n",
              "      <td>[성공, 행복, 인간관계, 힘, 대한민국, 직장인, 직장, 생활, 가장, 것, 일,...</td>\n",
              "    </tr>\n",
              "    <tr>\n",
              "      <th>2</th>\n",
              "      <td>이기적 유전자</td>\n",
              "      <td>리처드 도킨스</td>\n",
              "      <td>세계적 베스트셀러, 과학을 넘어선 우리 시대의 고전, 『이기적 유전자』의 40주년 ...</td>\n",
              "      <td>[세계, 베스트셀러, 과학, 우리, 시대, 고전, 이기, 유전자, 의, 주년, 기념...</td>\n",
              "    </tr>\n",
              "  </tbody>\n",
              "</table>\n",
              "</div>"
            ],
            "text/plain": [
              "        제목  ...                                               명사추출\n",
              "0       개미  ...  [베르나르, 베르베르, 장편소설, 개미, 시리즈, 저자, 기상, 외한, 개미, 세계...\n",
              "1    관계의 힘  ...  [성공, 행복, 인간관계, 힘, 대한민국, 직장인, 직장, 생활, 가장, 것, 일,...\n",
              "2  이기적 유전자  ...  [세계, 베스트셀러, 과학, 우리, 시대, 고전, 이기, 유전자, 의, 주년, 기념...\n",
              "\n",
              "[3 rows x 4 columns]"
            ]
          },
          "metadata": {},
          "execution_count": 6
        }
      ]
    },
    {
      "cell_type": "markdown",
      "metadata": {
        "id": "YnRSHbrNKrvQ"
      },
      "source": [
        "### 명사 빈도 셀 때 쓰는코드\n",
        "- 필요없지만 이후에 혹시나 참고용으로..\n",
        "\n",
        "#### **명사 빈도 카운트 할 때 쓰는 코드**\n",
        "list_docu = docu['책소개'].values.tolist()\n",
        "\n",
        "#### **okt 객체 생성**\n",
        "okt = Okt()\n",
        "noun = okt.nouns(list_docu[0])\n",
        "count = Counter(noun)\n",
        "\n",
        "#### **제일 자주쓰는 명사 10개까지만**\n",
        "noun_list = count.most_common(10)\n",
        "for i in noun_list:\n",
        "  print(i)"
      ]
    },
    {
      "cell_type": "markdown",
      "metadata": {
        "id": "XNrWaAVZvq17"
      },
      "source": [
        "# 유사도 측정\n",
        "\n",
        "1) 검색하고 싶은 키워드를 넣었을 때 가장 비슷한 키워드는 무엇이 나올까?\n",
        "\n",
        "2) 그렇게 해서 나온 키워드가 가장 많이 포함되어 있는 책 추천하기"
      ]
    },
    {
      "cell_type": "markdown",
      "metadata": {
        "id": "E3ZbEt43577T"
      },
      "source": [
        "## 1. 검색하고 싶은 키워드를 입력해서 나오는 가장 비슷한 키워드는? "
      ]
    },
    {
      "cell_type": "markdown",
      "metadata": {
        "id": "vrZY4Dxx650N"
      },
      "source": [
        "### 1) 단어 매트릭스 만들기"
      ]
    },
    {
      "cell_type": "code",
      "metadata": {
        "colab": {
          "base_uri": "https://localhost:8080/"
        },
        "id": "RnATmyqHyDAj",
        "outputId": "016b31cb-8884-40a0-d609-89862303bed6"
      },
      "source": [
        "documents = docu2['명사추출'].values[0]\n",
        "documents # list 형식"
      ],
      "execution_count": 7,
      "outputs": [
        {
          "output_type": "execute_result",
          "data": {
            "text/plain": [
              "['베르나르',\n",
              " '베르베르',\n",
              " '장편소설',\n",
              " '개미',\n",
              " '시리즈',\n",
              " '저자',\n",
              " '기상',\n",
              " '외한',\n",
              " '개미',\n",
              " '세계',\n",
              " '개미',\n",
              " '시각',\n",
              " '흥미',\n",
              " '사랑',\n",
              " '반역',\n",
              " '생존',\n",
              " '위',\n",
              " '투쟁',\n",
              " '이',\n",
              " '책',\n",
              " '우선',\n",
              " '표면',\n",
              " '소설',\n",
              " '설정',\n",
              " '인간',\n",
              " '사회',\n",
              " '개미',\n",
              " '사회',\n",
              " '실종',\n",
              " '살인',\n",
              " '등',\n",
              " '추적',\n",
              " '그',\n",
              " '원인',\n",
              " '추리',\n",
              " '소설',\n",
              " '양식',\n",
              " '개미',\n",
              " '생태',\n",
              " '등',\n",
              " '과학',\n",
              " '위',\n",
              " '관찰',\n",
              " '묘사',\n",
              " '과학',\n",
              " '소설',\n",
              " '양식',\n",
              " '번',\n",
              " '데',\n",
              " '감각',\n",
              " '재미']"
            ]
          },
          "metadata": {},
          "execution_count": 7
        }
      ]
    },
    {
      "cell_type": "code",
      "metadata": {
        "colab": {
          "base_uri": "https://localhost:8080/"
        },
        "id": "s60qTVbP1xkl",
        "outputId": "a2dc5072-b25d-4f11-8009-9bb8705c2528"
      },
      "source": [
        "# sklearn에 있는 TfidfVectorizer 라이브러리 사용\n",
        "tfidf = TfidfVectorizer(max_features = 100, max_df=0.95, min_df=0)\n",
        "\n",
        "# tf-idf의 term-document matrix 생성하기\n",
        "tfidf_mt = tfidf.fit_transform(documents) \n",
        "\n",
        "# tf-idf dictionary 만들기\n",
        "tfidf_dict = tfidf.get_feature_names()\n",
        "print(tfidf_dict)"
      ],
      "execution_count": 8,
      "outputs": [
        {
          "output_type": "stream",
          "name": "stdout",
          "text": [
            "['감각', '개미', '과학', '관찰', '기상', '묘사', '반역', '베르나르', '베르베르', '사랑', '사회', '살인', '생존', '생태', '설정', '세계', '소설', '시각', '시리즈', '실종', '양식', '외한', '우선', '원인', '인간', '장편소설', '재미', '저자', '추리', '추적', '투쟁', '표면', '흥미']\n"
          ]
        }
      ]
    },
    {
      "cell_type": "code",
      "metadata": {
        "colab": {
          "base_uri": "https://localhost:8080/"
        },
        "id": "SGqdhSGW2cXz",
        "outputId": "dfa3c94b-4797-4fc6-86d6-4d974c305ab9"
      },
      "source": [
        "data_array = tfidf_mt.toarray()\n",
        "data = pd.DataFrame(data_array, columns=tfidf_dict)\n",
        "data.shape"
      ],
      "execution_count": 9,
      "outputs": [
        {
          "output_type": "execute_result",
          "data": {
            "text/plain": [
              "(51, 33)"
            ]
          },
          "metadata": {},
          "execution_count": 9
        }
      ]
    },
    {
      "cell_type": "markdown",
      "metadata": {
        "id": "jgY6feWg2qTb"
      },
      "source": [
        "- 'tf실험' csv 파일의 1행의 명사추출 열을 TfidfVectorizer 라이브러리를 활용하여 매트릭스화 시키기: (51x33) 크기의 매트릭스"
      ]
    },
    {
      "cell_type": "code",
      "metadata": {
        "colab": {
          "base_uri": "https://localhost:8080/"
        },
        "id": "1KlYUP__3BXG",
        "outputId": "6333dcaa-afd0-45e6-84cd-92100e5ade70"
      },
      "source": [
        "count = Counter(documents)\n",
        "# 단어빈도(count.get)를 기준으로 내림차순 정렬\n",
        "vocab = sorted(count, key=count.get, reverse=True)\n",
        "vocab"
      ],
      "execution_count": 10,
      "outputs": [
        {
          "output_type": "execute_result",
          "data": {
            "text/plain": [
              "['개미',\n",
              " '소설',\n",
              " '위',\n",
              " '사회',\n",
              " '등',\n",
              " '양식',\n",
              " '과학',\n",
              " '베르나르',\n",
              " '베르베르',\n",
              " '장편소설',\n",
              " '시리즈',\n",
              " '저자',\n",
              " '기상',\n",
              " '외한',\n",
              " '세계',\n",
              " '시각',\n",
              " '흥미',\n",
              " '사랑',\n",
              " '반역',\n",
              " '생존',\n",
              " '투쟁',\n",
              " '이',\n",
              " '책',\n",
              " '우선',\n",
              " '표면',\n",
              " '설정',\n",
              " '인간',\n",
              " '실종',\n",
              " '살인',\n",
              " '추적',\n",
              " '그',\n",
              " '원인',\n",
              " '추리',\n",
              " '생태',\n",
              " '관찰',\n",
              " '묘사',\n",
              " '번',\n",
              " '데',\n",
              " '감각',\n",
              " '재미']"
            ]
          },
          "metadata": {},
          "execution_count": 10
        }
      ]
    },
    {
      "cell_type": "code",
      "metadata": {
        "colab": {
          "base_uri": "https://localhost:8080/"
        },
        "id": "0mb0CTZd365W",
        "outputId": "dd726e29-2e7c-40dc-9eb7-bc9d1d50713b"
      },
      "source": [
        "#단어들에 번호를 매겨 그 번호와 그 단어들을 dict 형태로 저장\n",
        "word2idx = {word.encode(\"utf8\").decode(\"utf8\"): ii for ii, word in enumerate(vocab,1)}\n",
        "word2idx\n",
        "\n",
        "# 많이 나오는 단어 순대로 중요함"
      ],
      "execution_count": 11,
      "outputs": [
        {
          "output_type": "execute_result",
          "data": {
            "text/plain": [
              "{'감각': 39,\n",
              " '개미': 1,\n",
              " '과학': 7,\n",
              " '관찰': 35,\n",
              " '그': 31,\n",
              " '기상': 13,\n",
              " '데': 38,\n",
              " '등': 5,\n",
              " '묘사': 36,\n",
              " '반역': 19,\n",
              " '번': 37,\n",
              " '베르나르': 8,\n",
              " '베르베르': 9,\n",
              " '사랑': 18,\n",
              " '사회': 4,\n",
              " '살인': 29,\n",
              " '생존': 20,\n",
              " '생태': 34,\n",
              " '설정': 26,\n",
              " '세계': 15,\n",
              " '소설': 2,\n",
              " '시각': 16,\n",
              " '시리즈': 11,\n",
              " '실종': 28,\n",
              " '양식': 6,\n",
              " '외한': 14,\n",
              " '우선': 24,\n",
              " '원인': 32,\n",
              " '위': 3,\n",
              " '이': 22,\n",
              " '인간': 27,\n",
              " '장편소설': 10,\n",
              " '재미': 40,\n",
              " '저자': 12,\n",
              " '책': 23,\n",
              " '추리': 33,\n",
              " '추적': 30,\n",
              " '투쟁': 21,\n",
              " '표면': 25,\n",
              " '흥미': 17}"
            ]
          },
          "metadata": {},
          "execution_count": 11
        }
      ]
    },
    {
      "cell_type": "code",
      "metadata": {
        "id": "TVEyz8kx5AEe"
      },
      "source": [
        "tsne = TSNE(n_components=2, n_iter=10000, verbose=1)"
      ],
      "execution_count": 12,
      "outputs": []
    },
    {
      "cell_type": "code",
      "metadata": {
        "colab": {
          "base_uri": "https://localhost:8080/"
        },
        "id": "08SEnfV65BoJ",
        "outputId": "3e2f21fb-af45-412f-9282-691ac459aa60"
      },
      "source": [
        "data_array.shape"
      ],
      "execution_count": 13,
      "outputs": [
        {
          "output_type": "execute_result",
          "data": {
            "text/plain": [
              "(51, 33)"
            ]
          },
          "metadata": {},
          "execution_count": 13
        }
      ]
    },
    {
      "cell_type": "code",
      "metadata": {
        "colab": {
          "base_uri": "https://localhost:8080/"
        },
        "id": "hRszbG3j5C7c",
        "outputId": "bdae6ab8-64e1-45fa-f86e-369f1e661aa7"
      },
      "source": [
        "data_array.T.shape"
      ],
      "execution_count": 14,
      "outputs": [
        {
          "output_type": "execute_result",
          "data": {
            "text/plain": [
              "(33, 51)"
            ]
          },
          "metadata": {},
          "execution_count": 14
        }
      ]
    },
    {
      "cell_type": "code",
      "metadata": {
        "colab": {
          "base_uri": "https://localhost:8080/"
        },
        "id": "s5EB_OGY4xuD",
        "outputId": "94a89c5c-61eb-49ea-a1b1-85410817da63"
      },
      "source": [
        "# Z : 위의 51X33차원에서 33차원에 존재하는 51개의 단어들을 2차원에 51개의 단어로 표현하기\n",
        "Z = tsne.fit_transform(data_array.T)"
      ],
      "execution_count": 15,
      "outputs": [
        {
          "output_type": "stream",
          "name": "stdout",
          "text": [
            "[t-SNE] Computing 32 nearest neighbors...\n",
            "[t-SNE] Indexed 33 samples in 0.000s...\n",
            "[t-SNE] Computed neighbors for 33 samples in 0.011s...\n",
            "[t-SNE] Computed conditional probabilities for sample 33 / 33\n",
            "[t-SNE] Mean sigma: 1.046431\n",
            "[t-SNE] KL divergence after 250 iterations with early exaggeration: 42.609467\n",
            "[t-SNE] KL divergence after 1300 iterations: 0.482152\n"
          ]
        }
      ]
    },
    {
      "cell_type": "markdown",
      "metadata": {
        "id": "auLH46Zo60jp"
      },
      "source": [
        "### 2) 단어들의 관계를 벡터 연산하기\n",
        "\n",
        "- w1 -> 임의로 '과학' 이라는 키워드를 아래 샘플에서 입력\n",
        "- w2 -> 임의로 '소설' 이라는 키워드를 아래 샘플에서 입력\n",
        "- w3 -> 임의로 '시리즈' 라는 키워드를 아래 샘플에서 입력\n",
        "\n",
        "- emb : 임베딩 시키는 건 위의 Z에서 이미 트랜스폼 시킴\n",
        "\n",
        "- word2idx 파라미터 자리에 -> best_word: 가장 비슷한 단어는?"
      ]
    },
    {
      "cell_type": "code",
      "metadata": {
        "id": "jAvn_oQW4K5n"
      },
      "source": [
        "def find_analogies(w1, w2, w3, emb, word2idx):\n",
        "    pos_word1 = emb[word2idx[w1]]\n",
        "    pos_word2 = emb[word2idx[w2]]\n",
        "    neg_word1 = emb[word2idx[w3]]\n",
        "    v0 = pos_word1 + pos_word2 - neg_word1\n",
        "\n",
        "    def dist1(a, b):\n",
        "        return np.linalg.norm(a - b)\n",
        "    def dist2(a, b):\n",
        "        return 1 - a.dot(b) / (np.linalg.norm(a) * np.linalg.norm(b))\n",
        "\n",
        "    for dist, name in [(dist1, 'Euclidean'), (dist2, 'cosine')]:\n",
        "        min_dist = float('inf')\n",
        "        best_word = ''\n",
        "        for word, idx in iteritems(word2idx):\n",
        "            if word not in (w1, w2, w3):\n",
        "                v1 = emb[idx]\n",
        "                d = dist(v0, v1)\n",
        "                if d < min_dist:\n",
        "                    min_dist = d\n",
        "                    best_word = word\n",
        "        print(\"closest match by\", name, \"distance:\", best_word)\n",
        "        print(w1, \"-\", w2, \"=\", w3, \"-\", best_word)"
      ],
      "execution_count": 16,
      "outputs": []
    },
    {
      "cell_type": "code",
      "metadata": {
        "colab": {
          "base_uri": "https://localhost:8080/"
        },
        "id": "xpWmVxrK4WdT",
        "outputId": "f1915492-e23c-489e-ac43-d341cc020fb7"
      },
      "source": [
        "analogies_to_try = (\n",
        "    ('과학', '소설','시리즈'),\n",
        ")\n",
        "\n",
        "word2idx = {word: ii for ii, word in enumerate(tfidf.get_feature_names())}\n",
        "word2idx\n",
        "\n",
        "for word_list in analogies_to_try:\n",
        "    print(word_list)\n",
        "    w1, w2, w3 = word_list\n",
        "    find_analogies(w1=w1, w2=w2, w3=w3, emb=Z, word2idx=word2idx)"
      ],
      "execution_count": 17,
      "outputs": [
        {
          "output_type": "stream",
          "name": "stdout",
          "text": [
            "('과학', '소설', '시리즈')\n",
            "closest match by Euclidean distance: 사회\n",
            "과학 - 소설 = 시리즈 - 사회\n",
            "closest match by cosine distance: 표면\n",
            "과학 - 소설 = 시리즈 - 표면\n"
          ]
        }
      ]
    },
    {
      "cell_type": "markdown",
      "metadata": {
        "id": "AlPqjH7l5J10"
      },
      "source": [
        "- 3개의 키워드 ('과학', '소설','시리즈' ) 를 입력했을때 유클리디안 거리로 가장 가까운 단어\n",
        "- 코사인 거리로 가장 가까운 단어"
      ]
    },
    {
      "cell_type": "code",
      "metadata": {
        "id": "Pd4AI358vvuD"
      },
      "source": [
        ""
      ],
      "execution_count": 17,
      "outputs": []
    }
  ]
}